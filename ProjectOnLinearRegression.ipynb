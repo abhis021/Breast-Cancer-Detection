{
 "cells": [
  {
   "cell_type": "code",
   "execution_count": 2,
   "metadata": {},
   "outputs": [],
   "source": [
    "import pandas as pd\n",
    "import matplotlib.pyplot as plt\n",
    "import numpy as np"
   ]
  },
  {
   "cell_type": "code",
   "execution_count": 3,
   "metadata": {},
   "outputs": [
    {
     "name": "stdout",
     "output_type": "stream",
     "text": [
      "      MarksDataset  Unnamed: 1\n",
      "0              NaN         NaN\n",
      "1              NaN         NaN\n",
      "2              1.0       90.25\n",
      "3              2.0       89.08\n",
      "4              3.0       89.08\n",
      "5              4.0       88.92\n",
      "6              5.0       88.83\n",
      "7              6.0       88.08\n",
      "8              7.0       88.08\n",
      "9              8.0       88.08\n",
      "10             9.0       87.58\n",
      "11            10.0       87.58\n",
      "12            11.0       87.33\n",
      "13            12.0       87.17\n",
      "14            13.0       87.00\n",
      "15            14.0       86.58\n",
      "16            15.0       86.33\n",
      "17            16.0       86.25\n",
      "18            17.0       86.00\n",
      "19            18.0       86.00\n",
      "20            19.0       86.00\n",
      "21            20.0       86.00\n",
      "22            21.0       85.92\n",
      "23            22.0       85.75\n",
      "24            23.0       85.67\n",
      "25            24.0       85.58\n",
      "26            25.0       85.58\n",
      "27            26.0       85.50\n",
      "28            27.0       85.17\n",
      "29            28.0       85.00\n",
      "...            ...         ...\n",
      "1005        1004.0       48.67\n",
      "1006        1005.0       48.17\n",
      "1007        1006.0       48.08\n",
      "1008        1007.0       46.92\n",
      "1009        1008.0       46.83\n",
      "1010        1009.0       46.42\n",
      "1011        1010.0       46.42\n",
      "1012        1011.0       46.25\n",
      "1013        1012.0       44.75\n",
      "1014        1013.0       44.50\n",
      "1015        1014.0       44.42\n",
      "1016        1015.0       44.08\n",
      "1017        1016.0       43.67\n",
      "1018        1017.0       43.00\n",
      "1019        1018.0       41.17\n",
      "1020        1019.0       40.33\n",
      "1021        1020.0       38.92\n",
      "1022        1021.0       37.75\n",
      "1023        1022.0       37.33\n",
      "1024        1023.0       37.08\n",
      "1025        1024.0       36.50\n",
      "1026        1025.0       35.83\n",
      "1027        1026.0       35.83\n",
      "1028        1027.0       35.00\n",
      "1029        1028.0       35.00\n",
      "1030        1029.0       28.58\n",
      "1031        1030.0       23.67\n",
      "1032        1031.0       17.17\n",
      "1033        1032.0       17.17\n",
      "1034        1033.0        7.75\n",
      "\n",
      "[1035 rows x 2 columns]\n"
     ]
    }
   ],
   "source": [
    "dfx = pd.read_csv(\"MarksDataset.csv\")\n",
    "\n",
    "# Used to convert any string character to NaN which there by convert the whole dataframe as INT.\n",
    "dfx = dfx.apply(pd.to_numeric,errors = 'coerce')\n",
    "print(dfx)"
   ]
  },
  {
   "cell_type": "code",
   "execution_count": 4,
   "metadata": {},
   "outputs": [
    {
     "name": "stdout",
     "output_type": "stream",
     "text": [
      "<class 'numpy.ndarray'>\n",
      "(998,)\n"
     ]
    }
   ],
   "source": [
    "p = dfx.values\n",
    "\n",
    "\n",
    "\n",
    "y = p[2:1000,0]\n",
    "x = p[2:1000,1]\n",
    "\n",
    "#y = np.around(y)\n",
    "\n",
    "# Create a dictionary, using this List items as keys.\n",
    "\n",
    "\n",
    "#x = (x - x.mean())/x.std()\n",
    "\n",
    "print(type(x))\n",
    "print(y.shape)"
   ]
  },
  {
   "cell_type": "code",
   "execution_count": 5,
   "metadata": {},
   "outputs": [
    {
     "name": "stdout",
     "output_type": "stream",
     "text": [
      "[90.25 89.08 89.08 88.92 88.83 88.08 88.08 88.08 87.58 87.58 87.33 87.17\n",
      " 87.   86.58 86.33 86.25 86.   86.   86.   86.   85.92 85.75 85.67 85.58\n",
      " 85.58 85.5  85.17 85.   85.   85.   84.92 84.92 84.92 84.83 84.83 84.75\n",
      " 84.75 84.67 84.58 84.42 84.33 84.33 84.17 83.92 83.83 83.83 83.75 83.67\n",
      " 83.58 83.58 83.5  83.42 83.25 83.25 83.17 83.08 83.   82.92 82.92 82.83\n",
      " 82.83 82.83 82.83 82.75 82.67 82.58 82.58 82.5  82.42 82.42 82.42 82.33\n",
      " 82.33 82.33 82.25 82.25 82.17 82.08 82.   81.92 81.92 81.83 81.83 81.83\n",
      " 81.75 81.75 81.75 81.67 81.58 81.5  81.5  81.5  81.5  81.42 81.42 81.33\n",
      " 81.25 81.17 81.08 81.08 81.08 80.83 80.83 80.75 80.75 80.75 80.75 80.75\n",
      " 80.67 80.58 80.58 80.58 80.5  80.5  80.42 80.33 80.25 80.17 80.17 80.17\n",
      " 80.17 80.   79.92 79.92 79.92 79.92 79.92 79.75 79.75 79.75 79.67 79.58\n",
      " 79.58 79.58 79.58 79.5  79.5  79.42 79.42 79.33 79.33 79.25 79.25 79.17\n",
      " 79.08 79.08 79.08 79.   79.   79.   78.83 78.75 78.75 78.67 78.67 78.67\n",
      " 78.67 78.67 78.67 78.58 78.5  78.5  78.5  78.5  78.5  78.42 78.42 78.33\n",
      " 78.33 78.25 78.25 78.25 78.25 78.17 78.17 78.08 78.08 78.08 78.   78.\n",
      " 77.92 77.92 77.92 77.92 77.83 77.83 77.75 77.75 77.75 77.75 77.67 77.58\n",
      " 77.58 77.58 77.5  77.5  77.5  77.5  77.5  77.42 77.42 77.42 77.42 77.42\n",
      " 77.42 77.33 77.33 77.25 77.17 77.08 77.08 77.08 77.08 77.   77.   77.\n",
      " 77.   77.   77.   76.92 76.92 76.92 76.92 76.83 76.83 76.83 76.83 76.75\n",
      " 76.75 76.75 76.75 76.75 76.75 76.75 76.67 76.67 76.67 76.58 76.58 76.5\n",
      " 76.5  76.42 76.42 76.42 76.42 76.42 76.33 76.33 76.25 76.25 76.25 76.17\n",
      " 76.17 76.17 76.08 76.08 76.   76.   75.92 75.92 75.92 75.92 75.83 75.83\n",
      " 75.83 75.83 75.83 75.83 75.83 75.75 75.75 75.75 75.75 75.67 75.67 75.67\n",
      " 75.67 75.67 75.58 75.5  75.5  75.5  75.42 75.42 75.33 75.33 75.33 75.33\n",
      " 75.25 75.25 75.25 75.17 75.17 75.17 75.17 75.17 75.17 75.08 75.08 75.08\n",
      " 75.08 75.   75.   75.   74.92 74.92 74.83 74.83 74.83 74.83 74.83 74.75\n",
      " 74.75 74.75 74.75 74.75 74.58 74.58 74.58 74.58 74.58 74.58 74.5  74.5\n",
      " 74.5  74.5  74.42 74.42 74.42 74.33 74.33 74.33 74.25 74.25 74.25 74.17\n",
      " 74.17 74.08 74.08 74.08 74.08 74.   74.   74.   74.   73.92 73.92 73.92\n",
      " 73.92 73.92 73.92 73.92 73.83 73.83 73.83 73.83 73.83 73.83 73.83 73.75\n",
      " 73.75 73.75 73.75 73.75 73.75 73.67 73.67 73.67 73.67 73.67 73.58 73.58\n",
      " 73.58 73.58 73.58 73.58 73.5  73.5  73.42 73.42 73.42 73.33 73.33 73.33\n",
      " 73.33 73.25 73.25 73.25 73.25 73.25 73.17 73.17 73.17 73.17 73.17 73.17\n",
      " 73.17 73.17 73.17 73.08 73.08 73.08 73.08 73.   73.   73.   73.   72.92\n",
      " 72.92 72.92 72.92 72.92 72.92 72.83 72.83 72.83 72.83 72.75 72.75 72.75\n",
      " 72.67 72.67 72.67 72.58 72.58 72.58 72.58 72.58 72.58 72.58 72.5  72.42\n",
      " 72.42 72.42 72.42 72.42 72.42 72.42 72.42 72.33 72.33 72.33 72.33 72.33\n",
      " 72.33 72.33 72.25 72.25 72.25 72.08 72.08 72.08 72.08 72.08 72.   72.\n",
      " 72.   72.   72.   72.   71.92 71.92 71.83 71.75 71.75 71.67 71.67 71.67\n",
      " 71.58 71.58 71.5  71.5  71.42 71.42 71.42 71.42 71.42 71.42 71.33 71.33\n",
      " 71.33 71.33 71.25 71.25 71.25 71.17 71.17 71.08 71.08 71.08 71.   71.\n",
      " 71.   71.   71.   71.   71.   70.92 70.83 70.83 70.83 70.83 70.75 70.75\n",
      " 70.75 70.67 70.67 70.58 70.58 70.5  70.5  70.5  70.42 70.42 70.42 70.42\n",
      " 70.42 70.33 70.25 70.25 70.25 70.25 70.17 70.17 70.08 70.08 70.08 70.\n",
      " 70.   70.   69.92 69.92 69.92 69.92 69.83 69.83 69.83 69.83 69.83 69.75\n",
      " 69.75 69.75 69.75 69.67 69.67 69.58 69.58 69.42 69.42 69.42 69.42 69.42\n",
      " 69.33 69.25 69.25 69.25 69.25 69.25 69.17 69.17 69.17 69.08 69.08 69.\n",
      " 69.   69.   69.   69.   69.   69.   69.   68.92 68.92 68.92 68.83 68.83\n",
      " 68.75 68.75 68.75 68.75 68.67 68.67 68.67 68.58 68.58 68.58 68.5  68.5\n",
      " 68.5  68.5  68.5  68.5  68.33 68.33 68.33 68.33 68.25 68.25 68.25 68.17\n",
      " 68.17 68.17 68.17 68.17 68.17 68.17 68.17 68.   68.   68.   68.   68.\n",
      " 68.   68.   67.92 67.92 67.92 67.83 67.75 67.75 67.67 67.67 67.67 67.58\n",
      " 67.58 67.5  67.5  67.5  67.5  67.5  67.5  67.42 67.42 67.42 67.42 67.42\n",
      " 67.42 67.33 67.33 67.33 67.25 67.17 67.17 67.17 67.17 67.08 67.08 67.08\n",
      " 67.08 67.08 67.   67.   66.92 66.92 66.92 66.92 66.92 66.92 66.92 66.83\n",
      " 66.83 66.75 66.75 66.75 66.67 66.67 66.67 66.67 66.58 66.58 66.58 66.58\n",
      " 66.5  66.5  66.5  66.5  66.5  66.5  66.42 66.42 66.42 66.42 66.42 66.33\n",
      " 66.33 66.25 66.17 66.08 66.   66.   65.92 65.92 65.92 65.92 65.92 65.83\n",
      " 65.83 65.67 65.67 65.58 65.58 65.58 65.58 65.5  65.5  65.42 65.42 65.33\n",
      " 65.33 65.33 65.33 65.33 65.33 65.33 65.33 65.25 65.25 65.25 65.25 65.25\n",
      " 65.25 65.17 65.17 65.17 65.17 65.   64.92 64.92 64.92 64.83 64.83 64.83\n",
      " 64.83 64.75 64.75 64.75 64.75 64.75 64.67 64.67 64.58 64.5  64.42 64.42\n",
      " 64.42 64.42 64.33 64.33 64.33 64.33 64.25 64.25 64.25 64.25 64.17 64.08\n",
      " 64.08 64.   64.   63.92 63.92 63.92 63.92 63.83 63.83 63.83 63.83 63.83\n",
      " 63.75 63.75 63.75 63.75 63.75 63.67 63.67 63.67 63.58 63.58 63.58 63.5\n",
      " 63.5  63.5  63.5  63.42 63.42 63.42 63.33 63.25 63.17 63.17 63.17 63.17\n",
      " 63.17 63.17 63.08 63.08 62.92 62.83 62.83 62.75 62.75 62.75 62.75 62.67\n",
      " 62.58 62.5  62.42 62.42 62.42 62.33 62.33 62.25 62.08 62.08 62.08 62.08\n",
      " 62.   62.   61.92 61.92 61.92 61.92 61.83 61.83 61.83 61.83 61.75 61.75\n",
      " 61.75 61.58 61.58 61.42 61.33 61.17 61.17 61.17 61.17 61.08 61.08 61.08\n",
      " 61.08 61.08 61.   61.   61.   60.92 60.92 60.92 60.83 60.83 60.83 60.83\n",
      " 60.75 60.75 60.75 60.75 60.75 60.67 60.5  60.5  60.42 60.42 60.42 60.33\n",
      " 60.33 60.33 60.25 60.25 60.17 60.17 60.17 60.17 60.17 60.08 60.08 60.08\n",
      " 59.92 59.83 59.83 59.75 59.67 59.58 59.5  59.5  59.5  59.42 59.42 59.42\n",
      " 59.33 59.33 59.25 59.25 59.08 59.08 59.   59.   58.83 58.75 58.67 58.58\n",
      " 58.58 58.58 58.58 58.58 58.58 58.5  58.5  58.5  58.5  58.5  58.42 58.33\n",
      " 58.33 58.25 58.25 58.17 58.17 58.08 58.08 57.83 57.75 57.75 57.75 57.67\n",
      " 57.58 57.58 57.25 57.25 57.17 57.17 57.08 57.   56.92 56.83 56.83 56.83\n",
      " 56.83 56.58 56.42 56.42 56.25 56.25 56.25 56.08 55.92 55.92 55.83 55.83\n",
      " 55.75 55.75 55.42 55.42 55.33 55.33 55.25 55.25 55.08 55.08 55.   55.\n",
      " 54.83 54.83 54.67 54.67 54.67 54.42 54.17 54.   53.5  53.42 53.25 53.08\n",
      " 53.   52.92 52.67 52.58 52.58 52.33 52.33 52.33 52.17 51.83 51.75 51.5\n",
      " 51.42 51.42 50.42 50.33 50.17 50.08 50.   49.92 49.92 49.92 49.83 49.83\n",
      " 49.67 49.58]\n"
     ]
    }
   ],
   "source": [
    "print(x)"
   ]
  },
  {
   "cell_type": "code",
   "execution_count": 6,
   "metadata": {},
   "outputs": [
    {
     "data": {
      "image/png": "[encoded data removed]",
      "text/plain": [
       "<Figure size 432x288 with 1 Axes>"
      ]
     },
     "metadata": {},
     "output_type": "display_data"
    }
   ],
   "source": [
    "plt.scatter(x,y)\n",
    "plt.show()"
   ]
  },
  {
   "cell_type": "markdown",
   "metadata": {},
   "source": [
    "## Using Predifined Library"
   ]
  },
  {
   "cell_type": "code",
   "execution_count": 7,
   "metadata": {},
   "outputs": [],
   "source": [
    "from sklearn.linear_model import LinearRegression"
   ]
  },
  {
   "cell_type": "code",
   "execution_count": 8,
   "metadata": {},
   "outputs": [
    {
     "name": "stdout",
     "output_type": "stream",
     "text": [
      "(998, 1)\n"
     ]
    }
   ],
   "source": [
    "model = LinearRegression()\n",
    "x = x.reshape((-1,1))\n",
    "\n",
    "print(x.shape)\n"
   ]
  },
  {
   "cell_type": "code",
   "execution_count": 9,
   "metadata": {},
   "outputs": [
    {
     "name": "stdout",
     "output_type": "stream",
     "text": [
      "2887.5434067109636\n",
      "[-34.00163355]\n"
     ]
    },
    {
     "name": "stderr",
     "output_type": "stream",
     "text": [
      "/Library/Frameworks/Python.framework/Versions/3.7/lib/python3.7/site-packages/sklearn/linear_model/base.py:509: RuntimeWarning: internal gelsd driver lwork query error, required iwork dimension not returned. This is likely the result of LAPACK bug 0038, fixed in LAPACK 3.2.2 (released July 21, 2010). Falling back to 'gelss' driver.\n",
      "  linalg.lstsq(X, y)\n"
     ]
    }
   ],
   "source": [
    "model.fit(x,y)\n",
    "\n",
    "output = model.predict(x)\n",
    "bias = model.intercept_\n",
    "coeff = model.coef_\n",
    "print(bias)\n",
    "print(coeff)"
   ]
  },
  {
   "cell_type": "code",
   "execution_count": 10,
   "metadata": {},
   "outputs": [
    {
     "data": {
      "text/plain": [
       "0.9729779064198991"
      ]
     },
     "execution_count": 10,
     "metadata": {},
     "output_type": "execute_result"
    }
   ],
   "source": [
    "model.score(x,y)"
   ]
  },
  {
   "cell_type": "code",
   "execution_count": 11,
   "metadata": {},
   "outputs": [
    {
     "data": {
      "image/png": "[encoded data removed]",
      "text/plain": [
       "<Figure size 432x288 with 1 Axes>"
      ]
     },
     "metadata": {},
     "output_type": "display_data"
    }
   ],
   "source": [
    "plt.scatter(x[:,0],y)\n",
    "plt.plot(x[:,0],output,color='orange')\n",
    "plt.show()"
   ]
  },
  {
   "cell_type": "code",
   "execution_count": 12,
   "metadata": {},
   "outputs": [
    {
     "data": {
      "text/plain": [
       "array([439.42579119])"
      ]
     },
     "execution_count": 12,
     "metadata": {},
     "output_type": "execute_result"
    }
   ],
   "source": [
    "model.predict(72)"
   ]
  },
  {
   "cell_type": "markdown",
   "metadata": {},
   "source": [
    "## Trying another Methode"
   ]
  },
  {
   "cell_type": "code",
   "execution_count": 145,
   "metadata": {},
   "outputs": [
    {
     "name": "stdout",
     "output_type": "stream",
     "text": [
      "[-34.00163355] [2887.54340671]\n"
     ]
    }
   ],
   "source": [
    "mean_x = x.mean()\n",
    "mean_y = y.mean()\n",
    "\n",
    "m = len(x)\n",
    "numer =0 \n",
    "denom = 0\n",
    "for i in range(m):\n",
    "    numer +=(x[i] - mean_x)*(y[i] - mean_y)\n",
    "    denom +=(x[i] - mean_x)**2\n",
    "b1 =numer/denom\n",
    "b0 =mean_y - (b1*mean_x)\n",
    "print(b1,b0)"
   ]
  },
  {
   "cell_type": "code",
   "execution_count": 146,
   "metadata": {},
   "outputs": [
    {
     "data": {
      "image/png": "[encoded data removed]",
      "text/plain": [
       "<Figure size 432x288 with 1 Axes>"
      ]
     },
     "metadata": {},
     "output_type": "display_data"
    }
   ],
   "source": [
    "\n",
    "\n",
    "x1 = np.linspace(50,90,10)\n",
    "y1 = b0 + b1*x1\n",
    "\n",
    "plt.plot(x1,y1,color='orange')\n",
    "plt.scatter(x,y)\n",
    "plt.show()\n",
    "         "
   ]
  }
 ],
 "metadata": {
  "kernelspec": {
   "display_name": "Python 3",
   "language": "python",
   "name": "python3"
  },
  "language_info": {
   "codemirror_mode": {
    "name": "ipython",
    "version": 3
   },
   "file_extension": ".py",
   "mimetype": "text/x-python",
   "name": "python",
   "nbconvert_exporter": "python",
   "pygments_lexer": "ipython3",
   "version": "3.7.0"
  }
 },
 "nbformat": 4,
 "nbformat_minor": 2
}
